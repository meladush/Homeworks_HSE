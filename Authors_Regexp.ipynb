{
  "nbformat": 4,
  "nbformat_minor": 0,
  "metadata": {
    "colab": {
      "provenance": [],
      "authorship_tag": "ABX9TyO4tngDpSNEa2txfzYDcu9Z",
      "include_colab_link": true
    },
    "kernelspec": {
      "name": "python3",
      "display_name": "Python 3"
    },
    "language_info": {
      "name": "python"
    }
  },
  "cells": [
    {
      "cell_type": "markdown",
      "metadata": {
        "id": "view-in-github",
        "colab_type": "text"
      },
      "source": [
        "<a href=\"https://colab.research.google.com/github/meladush/Homeworks_HSE/blob/main/Authors_Regexp.ipynb\" target=\"_parent\"><img src=\"https://colab.research.google.com/assets/colab-badge.svg\" alt=\"Open In Colab\"/></a>"
      ]
    },
    {
      "cell_type": "code",
      "execution_count": 2,
      "metadata": {
        "id": "OwLHYue2I0sL"
      },
      "outputs": [],
      "source": [
        "with open('reference.txt', 'r', encoding='utf=8') as file:\n",
        "    text = file.read()"
      ]
    },
    {
      "cell_type": "code",
      "source": [
        "import re"
      ],
      "metadata": {
        "id": "3jrhkC3BL07l"
      },
      "execution_count": 3,
      "outputs": []
    },
    {
      "cell_type": "code",
      "source": [
        "result_1 = set(re.findall(r'^([A-ZА-Я]{1}[a-za-яё]+-?[A-ZА-Я]{1}[a-za-яё]+),?\\s{1}[A-ZА-Я]{1}[a-z]?\\.', text, re.MULTILINE))\n",
        "# для двойных фамилий. Нашла на stackoverflow, что знак начала строки корректно работает в модуле re с дополнительным аргументом MULTILINE\n",
        "result_1\n"
      ],
      "metadata": {
        "colab": {
          "base_uri": "https://localhost:8080/"
        },
        "id": "7_deW-F5LqMv",
        "outputId": "4095d27e-60b3-4bd3-dd6b-2384edf2accf"
      },
      "execution_count": 4,
      "outputs": [
        {
          "output_type": "execute_result",
          "data": {
            "text/plain": [
              "{'Esterbay-Smith', 'Sanchez-Gonzales'}"
            ]
          },
          "metadata": {},
          "execution_count": 4
        }
      ]
    },
    {
      "cell_type": "code",
      "source": [
        "result_2 = set(re.findall('[^-]([A-ZА-Я]{1}[a-za-яё]+),?\\s{1}[A-ZА-Я]{1}[a-z]?\\.', text))\n",
        "sorted(result_2)"
      ],
      "metadata": {
        "colab": {
          "base_uri": "https://localhost:8080/"
        },
        "id": "CuQcQ5GEL49Y",
        "outputId": "65ea8f8a-1ec5-48ae-c4d7-545bb35f1a08"
      },
      "execution_count": 5,
      "outputs": [
        {
          "output_type": "execute_result",
          "data": {
            "text/plain": [
              "['Anstey',\n",
              " 'Armitage',\n",
              " 'Arneil',\n",
              " 'Axtell',\n",
              " 'Baker',\n",
              " 'Barclay',\n",
              " 'Bevernage',\n",
              " 'Bronnikov',\n",
              " 'Burrows',\n",
              " 'Carey',\n",
              " 'Corcoran',\n",
              " 'Crignon',\n",
              " 'Cristiani',\n",
              " 'Daston',\n",
              " 'Dear',\n",
              " 'Farr',\n",
              " 'Gottlib',\n",
              " 'Haraway',\n",
              " 'Jardine',\n",
              " 'Kolia',\n",
              " 'Latour',\n",
              " 'Locke',\n",
              " 'Morton',\n",
              " 'Muthu',\n",
              " 'Plamper',\n",
              " 'Razdyakonov',\n",
              " 'Reddy',\n",
              " 'Repina',\n",
              " 'Rosenwein',\n",
              " 'Schaffer',\n",
              " 'Sellars',\n",
              " 'Shapin',\n",
              " 'Short',\n",
              " 'Talbot',\n",
              " 'Timonin',\n",
              " 'Tuck',\n",
              " 'Tully',\n",
              " 'Wilson',\n",
              " 'Баркли',\n",
              " 'Бевернаж',\n",
              " 'Бронников',\n",
              " 'Готтлиб',\n",
              " 'Деар',\n",
              " 'Зайцева',\n",
              " 'Латур',\n",
              " 'Раздъяконов',\n",
              " 'Селларс',\n",
              " 'Тимонин',\n",
              " 'Харауэй',\n",
              " 'Шейпин',\n",
              " 'Яковлев']"
            ]
          },
          "metadata": {},
          "execution_count": 5
        }
      ]
    },
    {
      "cell_type": "code",
      "source": [
        "result_3 = set(re.findall('&\\s+[A-ZА-Я]{1}[a-z]?\\.\\s([A-ZА-Я]{1}[a-za-яё]+)', text))\n",
        "result_3"
      ],
      "metadata": {
        "colab": {
          "base_uri": "https://localhost:8080/"
        },
        "id": "RGDNEAa9MSNY",
        "outputId": "1fbcf73b-6cab-4c37-97ac-d20cd18a20ed"
      },
      "execution_count": 6,
      "outputs": [
        {
          "output_type": "execute_result",
          "data": {
            "text/plain": [
              "{'Cristiani', 'Schaffer', 'Sheypin', 'Zaytseva'}"
            ]
          },
          "metadata": {},
          "execution_count": 6
        }
      ]
    }
  ]
}