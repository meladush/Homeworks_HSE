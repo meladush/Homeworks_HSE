{
  "nbformat": 4,
  "nbformat_minor": 0,
  "metadata": {
    "colab": {
      "provenance": [],
      "authorship_tag": "ABX9TyOAS5EWJJlNjRbkyYj84jHs",
      "include_colab_link": true
    },
    "kernelspec": {
      "name": "python3",
      "display_name": "Python 3"
    },
    "language_info": {
      "name": "python"
    }
  },
  "cells": [
    {
      "cell_type": "markdown",
      "metadata": {
        "id": "view-in-github",
        "colab_type": "text"
      },
      "source": [
        "<a href=\"https://colab.research.google.com/github/meladush/Homeworks_HSE/blob/main/%22Authors_Regexp_CORRECTED%22.ipynb\" target=\"_parent\"><img src=\"https://colab.research.google.com/assets/colab-badge.svg\" alt=\"Open In Colab\"/></a>"
      ]
    },
    {
      "cell_type": "code",
      "execution_count": 1,
      "metadata": {
        "id": "OwLHYue2I0sL"
      },
      "outputs": [],
      "source": [
        "with open('reference.txt', 'r', encoding='utf=8') as file:\n",
        "    text = file.read()"
      ]
    },
    {
      "cell_type": "code",
      "source": [
        "import re"
      ],
      "metadata": {
        "id": "3jrhkC3BL07l"
      },
      "execution_count": 2,
      "outputs": []
    },
    {
      "cell_type": "code",
      "source": [
        "result_1 = set(re.findall(r'^([A-ZА-Я]{1}[a-za-яё]+-[A-ZА-Я]{1}[a-za-яё]+),?\\s{1}[A-ZА-Я]{1}[a-z]?\\.', text, re.MULTILINE))\n",
        "# для двойных фамилий. Нашла на stackoverflow, что знак начала строки корректно работает в модуле re с дополнительным аргументом MULTILINE\n",
        "result_1\n"
      ],
      "metadata": {
        "colab": {
          "base_uri": "https://localhost:8080/"
        },
        "id": "7_deW-F5LqMv",
        "outputId": "8adceed1-16b5-4d28-f2e2-4ab54bc9a41e"
      },
      "execution_count": 3,
      "outputs": [
        {
          "output_type": "execute_result",
          "data": {
            "text/plain": [
              "{'Esterbay-Smith', 'Sanchez-Gonzales'}"
            ]
          },
          "metadata": {},
          "execution_count": 3
        }
      ]
    },
    {
      "cell_type": "code",
      "source": [
        "result_2 = set(re.findall('[^-]([A-ZА-Я]{1}[a-za-яё]+),?\\s{1}[A-ZА-Я]{1}[a-z]?\\.', text))\n",
        "sorted(result_2)"
      ],
      "metadata": {
        "colab": {
          "base_uri": "https://localhost:8080/"
        },
        "id": "CuQcQ5GEL49Y",
        "outputId": "20fde659-48c9-4b41-b402-f20a6020312a"
      },
      "execution_count": 4,
      "outputs": [
        {
          "output_type": "execute_result",
          "data": {
            "text/plain": [
              "['Anstey',\n",
              " 'Armitage',\n",
              " 'Arneil',\n",
              " 'Axtell',\n",
              " 'Baker',\n",
              " 'Barclay',\n",
              " 'Bevernage',\n",
              " 'Bronnikov',\n",
              " 'Burrows',\n",
              " 'Carey',\n",
              " 'Corcoran',\n",
              " 'Crignon',\n",
              " 'Cristiani',\n",
              " 'Daston',\n",
              " 'Dear',\n",
              " 'Farr',\n",
              " 'Gottlib',\n",
              " 'Haraway',\n",
              " 'Jardine',\n",
              " 'Kolia',\n",
              " 'Latour',\n",
              " 'Locke',\n",
              " 'Morton',\n",
              " 'Muthu',\n",
              " 'Plamper',\n",
              " 'Razdyakonov',\n",
              " 'Reddy',\n",
              " 'Repina',\n",
              " 'Rosenwein',\n",
              " 'Schaffer',\n",
              " 'Sellars',\n",
              " 'Shapin',\n",
              " 'Short',\n",
              " 'Talbot',\n",
              " 'Timonin',\n",
              " 'Tuck',\n",
              " 'Tully',\n",
              " 'Wilson',\n",
              " 'Баркли',\n",
              " 'Бевернаж',\n",
              " 'Бронников',\n",
              " 'Готтлиб',\n",
              " 'Деар',\n",
              " 'Зайцева',\n",
              " 'Латур',\n",
              " 'Раздъяконов',\n",
              " 'Селларс',\n",
              " 'Тимонин',\n",
              " 'Харауэй',\n",
              " 'Шейпин',\n",
              " 'Яковлев']"
            ]
          },
          "metadata": {},
          "execution_count": 4
        }
      ]
    },
    {
      "cell_type": "code",
      "source": [
        "result_3 = set(re.findall('&\\s+[A-Z]{1}[a-z]?\\.\\s([A-Z]{1}[a-z]+)', text))\n",
        "result_3"
      ],
      "metadata": {
        "colab": {
          "base_uri": "https://localhost:8080/"
        },
        "id": "RGDNEAa9MSNY",
        "outputId": "4c54062c-e99a-483d-b7d9-4a040807ffb3"
      },
      "execution_count": 5,
      "outputs": [
        {
          "output_type": "execute_result",
          "data": {
            "text/plain": [
              "{'Cristiani', 'Schaffer', 'Sheypin', 'Zaytseva'}"
            ]
          },
          "metadata": {},
          "execution_count": 5
        }
      ]
    }
  ]
}